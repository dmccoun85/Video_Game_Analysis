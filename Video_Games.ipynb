{
 "cells": [
  {
   "cell_type": "markdown",
   "id": "eff27178",
   "metadata": {},
   "source": [
    "## <center>Epic Games would like to know if certain video game characteristic correlate to how many units that game will sell.</center>\n",
    "\n",
    "> **H0:** Certain video game characteristics **can not** be used to predict how how many units it will sell.<br>\n",
    "> **H1:** Certain video game characteristics can be used to predict how how many units it will sell."
   ]
  },
  {
   "cell_type": "code",
   "execution_count": 87,
   "id": "239529d5",
   "metadata": {},
   "outputs": [],
   "source": [
    "import pandas as pd\n",
    "import numpy as np\n",
    "import matplotlib.pyplot as plt\n",
    "import seaborn as sns\n",
    "import scipy as scipy\n",
    "from scipy import stats\n",
    "import statsmodels.api as sm\n",
    "from statsmodels.formula.api import ols\n",
    "import math\n",
    "%matplotlib inline"
   ]
  },
  {
   "cell_type": "code",
   "execution_count": 88,
   "id": "20a9810a",
   "metadata": {},
   "outputs": [],
   "source": [
    "# Reading in the data set.\n",
    "df = pd.read_csv(\"Video_Games_Sales_as_at_22_Dec_2016.csv\")"
   ]
  },
  {
   "cell_type": "markdown",
   "id": "aec623e7",
   "metadata": {},
   "source": [
    "# <center>Exploring</center>"
   ]
  },
  {
   "cell_type": "code",
   "execution_count": 89,
   "id": "c26d2b22",
   "metadata": {
    "scrolled": true
   },
   "outputs": [
    {
     "data": {
      "text/html": [
       "<div>\n",
       "<style scoped>\n",
       "    .dataframe tbody tr th:only-of-type {\n",
       "        vertical-align: middle;\n",
       "    }\n",
       "\n",
       "    .dataframe tbody tr th {\n",
       "        vertical-align: top;\n",
       "    }\n",
       "\n",
       "    .dataframe thead th {\n",
       "        text-align: right;\n",
       "    }\n",
       "</style>\n",
       "<table border=\"1\" class=\"dataframe\">\n",
       "  <thead>\n",
       "    <tr style=\"text-align: right;\">\n",
       "      <th></th>\n",
       "      <th>Name</th>\n",
       "      <th>Platform</th>\n",
       "      <th>Year_of_Release</th>\n",
       "      <th>Genre</th>\n",
       "      <th>Publisher</th>\n",
       "      <th>NA_Sales</th>\n",
       "      <th>EU_Sales</th>\n",
       "      <th>JP_Sales</th>\n",
       "      <th>Other_Sales</th>\n",
       "      <th>Global_Sales</th>\n",
       "      <th>Critic_Score</th>\n",
       "      <th>Critic_Count</th>\n",
       "      <th>User_Score</th>\n",
       "      <th>User_Count</th>\n",
       "      <th>Developer</th>\n",
       "      <th>Rating</th>\n",
       "    </tr>\n",
       "  </thead>\n",
       "  <tbody>\n",
       "    <tr>\n",
       "      <th>0</th>\n",
       "      <td>Wii Sports</td>\n",
       "      <td>Wii</td>\n",
       "      <td>2006.0</td>\n",
       "      <td>Sports</td>\n",
       "      <td>Nintendo</td>\n",
       "      <td>41.36</td>\n",
       "      <td>28.96</td>\n",
       "      <td>3.77</td>\n",
       "      <td>8.45</td>\n",
       "      <td>82.53</td>\n",
       "      <td>76.0</td>\n",
       "      <td>51.0</td>\n",
       "      <td>8</td>\n",
       "      <td>322.0</td>\n",
       "      <td>Nintendo</td>\n",
       "      <td>E</td>\n",
       "    </tr>\n",
       "    <tr>\n",
       "      <th>1</th>\n",
       "      <td>Super Mario Bros.</td>\n",
       "      <td>NES</td>\n",
       "      <td>1985.0</td>\n",
       "      <td>Platform</td>\n",
       "      <td>Nintendo</td>\n",
       "      <td>29.08</td>\n",
       "      <td>3.58</td>\n",
       "      <td>6.81</td>\n",
       "      <td>0.77</td>\n",
       "      <td>40.24</td>\n",
       "      <td>NaN</td>\n",
       "      <td>NaN</td>\n",
       "      <td>NaN</td>\n",
       "      <td>NaN</td>\n",
       "      <td>NaN</td>\n",
       "      <td>NaN</td>\n",
       "    </tr>\n",
       "    <tr>\n",
       "      <th>2</th>\n",
       "      <td>Mario Kart Wii</td>\n",
       "      <td>Wii</td>\n",
       "      <td>2008.0</td>\n",
       "      <td>Racing</td>\n",
       "      <td>Nintendo</td>\n",
       "      <td>15.68</td>\n",
       "      <td>12.76</td>\n",
       "      <td>3.79</td>\n",
       "      <td>3.29</td>\n",
       "      <td>35.52</td>\n",
       "      <td>82.0</td>\n",
       "      <td>73.0</td>\n",
       "      <td>8.3</td>\n",
       "      <td>709.0</td>\n",
       "      <td>Nintendo</td>\n",
       "      <td>E</td>\n",
       "    </tr>\n",
       "    <tr>\n",
       "      <th>3</th>\n",
       "      <td>Wii Sports Resort</td>\n",
       "      <td>Wii</td>\n",
       "      <td>2009.0</td>\n",
       "      <td>Sports</td>\n",
       "      <td>Nintendo</td>\n",
       "      <td>15.61</td>\n",
       "      <td>10.93</td>\n",
       "      <td>3.28</td>\n",
       "      <td>2.95</td>\n",
       "      <td>32.77</td>\n",
       "      <td>80.0</td>\n",
       "      <td>73.0</td>\n",
       "      <td>8</td>\n",
       "      <td>192.0</td>\n",
       "      <td>Nintendo</td>\n",
       "      <td>E</td>\n",
       "    </tr>\n",
       "    <tr>\n",
       "      <th>4</th>\n",
       "      <td>Pokemon Red/Pokemon Blue</td>\n",
       "      <td>GB</td>\n",
       "      <td>1996.0</td>\n",
       "      <td>Role-Playing</td>\n",
       "      <td>Nintendo</td>\n",
       "      <td>11.27</td>\n",
       "      <td>8.89</td>\n",
       "      <td>10.22</td>\n",
       "      <td>1.00</td>\n",
       "      <td>31.37</td>\n",
       "      <td>NaN</td>\n",
       "      <td>NaN</td>\n",
       "      <td>NaN</td>\n",
       "      <td>NaN</td>\n",
       "      <td>NaN</td>\n",
       "      <td>NaN</td>\n",
       "    </tr>\n",
       "  </tbody>\n",
       "</table>\n",
       "</div>"
      ],
      "text/plain": [
       "                       Name Platform  Year_of_Release         Genre Publisher  \\\n",
       "0                Wii Sports      Wii           2006.0        Sports  Nintendo   \n",
       "1         Super Mario Bros.      NES           1985.0      Platform  Nintendo   \n",
       "2            Mario Kart Wii      Wii           2008.0        Racing  Nintendo   \n",
       "3         Wii Sports Resort      Wii           2009.0        Sports  Nintendo   \n",
       "4  Pokemon Red/Pokemon Blue       GB           1996.0  Role-Playing  Nintendo   \n",
       "\n",
       "   NA_Sales  EU_Sales  JP_Sales  Other_Sales  Global_Sales  Critic_Score  \\\n",
       "0     41.36     28.96      3.77         8.45         82.53          76.0   \n",
       "1     29.08      3.58      6.81         0.77         40.24           NaN   \n",
       "2     15.68     12.76      3.79         3.29         35.52          82.0   \n",
       "3     15.61     10.93      3.28         2.95         32.77          80.0   \n",
       "4     11.27      8.89     10.22         1.00         31.37           NaN   \n",
       "\n",
       "   Critic_Count User_Score  User_Count Developer Rating  \n",
       "0          51.0          8       322.0  Nintendo      E  \n",
       "1           NaN        NaN         NaN       NaN    NaN  \n",
       "2          73.0        8.3       709.0  Nintendo      E  \n",
       "3          73.0          8       192.0  Nintendo      E  \n",
       "4           NaN        NaN         NaN       NaN    NaN  "
      ]
     },
     "execution_count": 89,
     "metadata": {},
     "output_type": "execute_result"
    }
   ],
   "source": [
    "# Verifying it loaded.\n",
    "df.head()"
   ]
  },
  {
   "cell_type": "code",
   "execution_count": 90,
   "id": "1137f2e8",
   "metadata": {},
   "outputs": [],
   "source": [
    "# Making a copy of the dataframe to clean the data set.\n",
    "df_copy = df.copy()"
   ]
  },
  {
   "cell_type": "code",
   "execution_count": 91,
   "id": "02fa6e2d",
   "metadata": {},
   "outputs": [
    {
     "name": "stdout",
     "output_type": "stream",
     "text": [
      "<class 'pandas.core.frame.DataFrame'>\n",
      "RangeIndex: 16719 entries, 0 to 16718\n",
      "Data columns (total 16 columns):\n",
      " #   Column           Non-Null Count  Dtype  \n",
      "---  ------           --------------  -----  \n",
      " 0   Name             16717 non-null  object \n",
      " 1   Platform         16719 non-null  object \n",
      " 2   Year_of_Release  16450 non-null  float64\n",
      " 3   Genre            16717 non-null  object \n",
      " 4   Publisher        16665 non-null  object \n",
      " 5   NA_Sales         16719 non-null  float64\n",
      " 6   EU_Sales         16719 non-null  float64\n",
      " 7   JP_Sales         16719 non-null  float64\n",
      " 8   Other_Sales      16719 non-null  float64\n",
      " 9   Global_Sales     16719 non-null  float64\n",
      " 10  Critic_Score     8137 non-null   float64\n",
      " 11  Critic_Count     8137 non-null   float64\n",
      " 12  User_Score       10015 non-null  object \n",
      " 13  User_Count       7590 non-null   float64\n",
      " 14  Developer        10096 non-null  object \n",
      " 15  Rating           9950 non-null   object \n",
      "dtypes: float64(9), object(7)\n",
      "memory usage: 2.0+ MB\n"
     ]
    }
   ],
   "source": [
    "# Exploring the data set.\n",
    "df_copy.info()"
   ]
  },
  {
   "cell_type": "code",
   "execution_count": 92,
   "id": "f0ec4b28",
   "metadata": {},
   "outputs": [
    {
     "data": {
      "text/plain": [
       "array(['Wii', 'NES', 'GB', 'DS', 'X360', 'PS3', 'PS2', 'SNES', 'GBA',\n",
       "       'PS4', '3DS', 'N64', 'PS', 'XB', 'PC', '2600', 'PSP', 'XOne',\n",
       "       'WiiU', 'GC', 'GEN', 'DC', 'PSV', 'SAT', 'SCD', 'WS', 'NG', 'TG16',\n",
       "       '3DO', 'GG', 'PCFX'], dtype=object)"
      ]
     },
     "execution_count": 92,
     "metadata": {},
     "output_type": "execute_result"
    }
   ],
   "source": [
    "# Exploring the platforms available.\n",
    "df_copy.Platform.unique()"
   ]
  },
  {
   "cell_type": "markdown",
   "id": "4e735117",
   "metadata": {},
   "source": [
    "# <center>Cleaning</center>"
   ]
  },
  {
   "cell_type": "code",
   "execution_count": 93,
   "id": "a2f39404",
   "metadata": {},
   "outputs": [
    {
     "data": {
      "text/plain": [
       "Index(['Name', 'Platform', 'Year_of_Release', 'Genre', 'Publisher', 'NA_Sales',\n",
       "       'EU_Sales', 'JP_Sales', 'Other_Sales', 'Global_Sales', 'Critic_Score',\n",
       "       'Critic_Count', 'User_Score', 'User_Count', 'Developer', 'Rating'],\n",
       "      dtype='object')"
      ]
     },
     "execution_count": 93,
     "metadata": {},
     "output_type": "execute_result"
    }
   ],
   "source": [
    "# Displaying all the columns.\n",
    "df_copy.columns"
   ]
  },
  {
   "cell_type": "code",
   "execution_count": 94,
   "id": "afaabfb6",
   "metadata": {},
   "outputs": [],
   "source": [
    "# Removing some of the unneeded columns.\n",
    "df_copy = df_copy.drop(columns=['Publisher', 'Other_Sales', 'Global_Sales', 'Critic_Score', 'Critic_Count',\n",
    "            'User_Score', 'User_Count', 'Developer', 'Rating'])"
   ]
  },
  {
   "cell_type": "code",
   "execution_count": 95,
   "id": "d2625b05",
   "metadata": {},
   "outputs": [
    {
     "data": {
      "text/html": [
       "<div>\n",
       "<style scoped>\n",
       "    .dataframe tbody tr th:only-of-type {\n",
       "        vertical-align: middle;\n",
       "    }\n",
       "\n",
       "    .dataframe tbody tr th {\n",
       "        vertical-align: top;\n",
       "    }\n",
       "\n",
       "    .dataframe thead th {\n",
       "        text-align: right;\n",
       "    }\n",
       "</style>\n",
       "<table border=\"1\" class=\"dataframe\">\n",
       "  <thead>\n",
       "    <tr style=\"text-align: right;\">\n",
       "      <th></th>\n",
       "      <th>Name</th>\n",
       "      <th>Platform</th>\n",
       "      <th>Year_of_Release</th>\n",
       "      <th>Genre</th>\n",
       "      <th>NA_Sales</th>\n",
       "      <th>EU_Sales</th>\n",
       "      <th>JP_Sales</th>\n",
       "    </tr>\n",
       "  </thead>\n",
       "  <tbody>\n",
       "    <tr>\n",
       "      <th>0</th>\n",
       "      <td>Wii Sports</td>\n",
       "      <td>Wii</td>\n",
       "      <td>2006.0</td>\n",
       "      <td>Sports</td>\n",
       "      <td>41.36</td>\n",
       "      <td>28.96</td>\n",
       "      <td>3.77</td>\n",
       "    </tr>\n",
       "    <tr>\n",
       "      <th>1</th>\n",
       "      <td>Super Mario Bros.</td>\n",
       "      <td>NES</td>\n",
       "      <td>1985.0</td>\n",
       "      <td>Platform</td>\n",
       "      <td>29.08</td>\n",
       "      <td>3.58</td>\n",
       "      <td>6.81</td>\n",
       "    </tr>\n",
       "    <tr>\n",
       "      <th>2</th>\n",
       "      <td>Mario Kart Wii</td>\n",
       "      <td>Wii</td>\n",
       "      <td>2008.0</td>\n",
       "      <td>Racing</td>\n",
       "      <td>15.68</td>\n",
       "      <td>12.76</td>\n",
       "      <td>3.79</td>\n",
       "    </tr>\n",
       "    <tr>\n",
       "      <th>3</th>\n",
       "      <td>Wii Sports Resort</td>\n",
       "      <td>Wii</td>\n",
       "      <td>2009.0</td>\n",
       "      <td>Sports</td>\n",
       "      <td>15.61</td>\n",
       "      <td>10.93</td>\n",
       "      <td>3.28</td>\n",
       "    </tr>\n",
       "    <tr>\n",
       "      <th>4</th>\n",
       "      <td>Pokemon Red/Pokemon Blue</td>\n",
       "      <td>GB</td>\n",
       "      <td>1996.0</td>\n",
       "      <td>Role-Playing</td>\n",
       "      <td>11.27</td>\n",
       "      <td>8.89</td>\n",
       "      <td>10.22</td>\n",
       "    </tr>\n",
       "  </tbody>\n",
       "</table>\n",
       "</div>"
      ],
      "text/plain": [
       "                       Name Platform  Year_of_Release         Genre  NA_Sales  \\\n",
       "0                Wii Sports      Wii           2006.0        Sports     41.36   \n",
       "1         Super Mario Bros.      NES           1985.0      Platform     29.08   \n",
       "2            Mario Kart Wii      Wii           2008.0        Racing     15.68   \n",
       "3         Wii Sports Resort      Wii           2009.0        Sports     15.61   \n",
       "4  Pokemon Red/Pokemon Blue       GB           1996.0  Role-Playing     11.27   \n",
       "\n",
       "   EU_Sales  JP_Sales  \n",
       "0     28.96      3.77  \n",
       "1      3.58      6.81  \n",
       "2     12.76      3.79  \n",
       "3     10.93      3.28  \n",
       "4      8.89     10.22  "
      ]
     },
     "execution_count": 95,
     "metadata": {},
     "output_type": "execute_result"
    }
   ],
   "source": [
    "# Verifying columns were deleted.\n",
    "df_copy.head()"
   ]
  },
  {
   "cell_type": "markdown",
   "id": "aeb30c6f",
   "metadata": {},
   "source": [
    "#### <center>Removed some uneeded columns to simplify the data set.</center>"
   ]
  },
  {
   "cell_type": "code",
   "execution_count": 96,
   "id": "baa38b49",
   "metadata": {},
   "outputs": [
    {
     "data": {
      "text/plain": [
       "array(['Wii', 'NES', 'GB', 'DS', 'X360', 'PS3', 'PS2', 'SNES', 'GBA',\n",
       "       'PS4', '3DS', 'N64', 'PS', 'XB', 'PC', '2600', 'PSP', 'XOne',\n",
       "       'WiiU', 'GC', 'GEN', 'DC', 'PSV', 'SAT', 'SCD', 'WS', 'NG', 'TG16',\n",
       "       '3DO', 'GG', 'PCFX'], dtype=object)"
      ]
     },
     "execution_count": 96,
     "metadata": {},
     "output_type": "execute_result"
    }
   ],
   "source": [
    "# Displaying the platforms available.\n",
    "df_copy.Platform.unique()"
   ]
  },
  {
   "cell_type": "code",
   "execution_count": 97,
   "id": "9daf1100",
   "metadata": {},
   "outputs": [],
   "source": [
    "# Removing platforms that Epic Game does not support.\n",
    "df_copy = df_copy[~df_copy['Platform'].isin(['NES', 'GB', 'X360', 'PS3', 'PS2', 'SNES',\n",
    "                                             'GBA', 'N64', 'PS','XB', '2600', 'GEN', 'DC', 'PSV', 'SAT',\n",
    "                                             'SCD', 'WS', 'NG', 'TG16', '3DO', 'GG', 'PCFX'])]"
   ]
  },
  {
   "cell_type": "code",
   "execution_count": 98,
   "id": "a35bcfe8",
   "metadata": {},
   "outputs": [
    {
     "data": {
      "text/plain": [
       "array(['Wii', 'DS', 'PS4', '3DS', 'PC', 'PSP', 'XOne', 'WiiU', 'GC'],\n",
       "      dtype=object)"
      ]
     },
     "execution_count": 98,
     "metadata": {},
     "output_type": "execute_result"
    }
   ],
   "source": [
    "# Confirming supported platforms.\n",
    "df_copy.Platform.unique()"
   ]
  },
  {
   "cell_type": "markdown",
   "id": "610a6ac5",
   "metadata": {},
   "source": [
    "#### <center>Removed the video game platforms that Epic Games doesn't support.</center>"
   ]
  },
  {
   "cell_type": "code",
   "execution_count": 99,
   "id": "b9de7ca7",
   "metadata": {},
   "outputs": [
    {
     "data": {
      "text/plain": [
       "array(['Sports', 'Racing', 'Platform', 'Misc', 'Simulation',\n",
       "       'Role-Playing', 'Puzzle', 'Shooter', 'Fighting', 'Action',\n",
       "       'Strategy', 'Adventure'], dtype=object)"
      ]
     },
     "execution_count": 99,
     "metadata": {},
     "output_type": "execute_result"
    }
   ],
   "source": [
    "# Displaying all genres.\n",
    "df_copy.Genre.unique()"
   ]
  },
  {
   "cell_type": "code",
   "execution_count": 100,
   "id": "f105cfb2",
   "metadata": {},
   "outputs": [],
   "source": [
    "# Removing unneeded game genre 'Platform'.\n",
    "df_copy = df_copy[df_copy.Genre != 'Platform']"
   ]
  },
  {
   "cell_type": "code",
   "execution_count": 101,
   "id": "80133f59",
   "metadata": {},
   "outputs": [],
   "source": [
    "# Removing undeeded game genre 'Misc'.\n",
    "df_copy = df_copy[df_copy.Genre != 'Misc']"
   ]
  },
  {
   "cell_type": "code",
   "execution_count": 102,
   "id": "2681d263",
   "metadata": {},
   "outputs": [
    {
     "data": {
      "text/plain": [
       "array(['Sports', 'Racing', 'Simulation', 'Role-Playing', 'Puzzle',\n",
       "       'Shooter', 'Fighting', 'Action', 'Strategy', 'Adventure'],\n",
       "      dtype=object)"
      ]
     },
     "execution_count": 102,
     "metadata": {},
     "output_type": "execute_result"
    }
   ],
   "source": [
    "# Verifying the two genres were removed.\n",
    "df_copy.Genre.unique()"
   ]
  },
  {
   "cell_type": "markdown",
   "id": "6ac811bd",
   "metadata": {},
   "source": [
    "#### <center>Removed two video game genres that don't help this analysis.</center>"
   ]
  },
  {
   "cell_type": "code",
   "execution_count": 103,
   "id": "937a0b88",
   "metadata": {},
   "outputs": [
    {
     "data": {
      "text/plain": [
       "2053"
      ]
     },
     "execution_count": 103,
     "metadata": {},
     "output_type": "execute_result"
    }
   ],
   "source": [
    "# Counting how many NA_Sales rows have no sales data.\n",
    "df_copy[df_copy.NA_Sales == 0].shape[0]"
   ]
  },
  {
   "cell_type": "code",
   "execution_count": 104,
   "id": "53a782d2",
   "metadata": {},
   "outputs": [
    {
     "data": {
      "text/plain": [
       "2759"
      ]
     },
     "execution_count": 104,
     "metadata": {},
     "output_type": "execute_result"
    }
   ],
   "source": [
    "# Counting how many EU_Sales rows have no sales data.\n",
    "df_copy[df_copy.EU_Sales == 0].shape[0]"
   ]
  },
  {
   "cell_type": "code",
   "execution_count": 105,
   "id": "cf721e44",
   "metadata": {},
   "outputs": [
    {
     "data": {
      "text/plain": [
       "4096"
      ]
     },
     "execution_count": 105,
     "metadata": {},
     "output_type": "execute_result"
    }
   ],
   "source": [
    "# Counting how many JP_Sales rows have no sales data.\n",
    "df_copy[df_copy.JP_Sales == 0].shape[0]"
   ]
  },
  {
   "cell_type": "code",
   "execution_count": 106,
   "id": "abb7a1ab",
   "metadata": {},
   "outputs": [],
   "source": [
    "# Removing rows with NA_Sales entries of 0.\n",
    "df_copy = df_copy[df_copy.NA_Sales != 0]"
   ]
  },
  {
   "cell_type": "code",
   "execution_count": 107,
   "id": "89944de1",
   "metadata": {},
   "outputs": [],
   "source": [
    "# Removing rows with EU_Sales entries of 0.\n",
    "df_copy = df_copy[df_copy.EU_Sales != 0]"
   ]
  },
  {
   "cell_type": "code",
   "execution_count": 108,
   "id": "09ffe7e3",
   "metadata": {},
   "outputs": [],
   "source": [
    "# Removing rows with JP_Sales entries of 0.\n",
    "df_copy = df_copy[df_copy.JP_Sales != 0]"
   ]
  },
  {
   "cell_type": "code",
   "execution_count": 109,
   "id": "6ea2429d",
   "metadata": {},
   "outputs": [
    {
     "data": {
      "text/plain": [
       "0"
      ]
     },
     "execution_count": 109,
     "metadata": {},
     "output_type": "execute_result"
    }
   ],
   "source": [
    "# Verifying all NA_Sales have sales data.\n",
    "df_copy[df_copy.NA_Sales == 0].shape[0]"
   ]
  },
  {
   "cell_type": "code",
   "execution_count": 110,
   "id": "4f773759",
   "metadata": {},
   "outputs": [
    {
     "data": {
      "text/plain": [
       "0"
      ]
     },
     "execution_count": 110,
     "metadata": {},
     "output_type": "execute_result"
    }
   ],
   "source": [
    "# Verifying all EU_Sales have sales data.\n",
    "df_copy[df_copy.EU_Sales == 0].shape[0]"
   ]
  },
  {
   "cell_type": "code",
   "execution_count": 111,
   "id": "3b02e99d",
   "metadata": {},
   "outputs": [
    {
     "data": {
      "text/plain": [
       "0"
      ]
     },
     "execution_count": 111,
     "metadata": {},
     "output_type": "execute_result"
    }
   ],
   "source": [
    "# Verifying all JP_Sales have sales data.\n",
    "df_copy[df_copy.JP_Sales == 0].shape[0]"
   ]
  },
  {
   "cell_type": "markdown",
   "id": "f129d407",
   "metadata": {},
   "source": [
    "#### <center>Removed rows on the three sales columns that contain no sales.</center>"
   ]
  },
  {
   "cell_type": "code",
   "execution_count": 112,
   "id": "e3666831",
   "metadata": {},
   "outputs": [
    {
     "data": {
      "text/html": [
       "<div>\n",
       "<style scoped>\n",
       "    .dataframe tbody tr th:only-of-type {\n",
       "        vertical-align: middle;\n",
       "    }\n",
       "\n",
       "    .dataframe tbody tr th {\n",
       "        vertical-align: top;\n",
       "    }\n",
       "\n",
       "    .dataframe thead th {\n",
       "        text-align: right;\n",
       "    }\n",
       "</style>\n",
       "<table border=\"1\" class=\"dataframe\">\n",
       "  <thead>\n",
       "    <tr style=\"text-align: right;\">\n",
       "      <th></th>\n",
       "      <th>Name</th>\n",
       "      <th>Platform</th>\n",
       "      <th>Year_of_Release</th>\n",
       "      <th>Genre</th>\n",
       "      <th>NA_Sales</th>\n",
       "      <th>EU_Sales</th>\n",
       "      <th>JP_Sales</th>\n",
       "    </tr>\n",
       "  </thead>\n",
       "  <tbody>\n",
       "    <tr>\n",
       "      <th>0</th>\n",
       "      <td>Wii Sports</td>\n",
       "      <td>Wii</td>\n",
       "      <td>2006.0</td>\n",
       "      <td>Sports</td>\n",
       "      <td>41.36</td>\n",
       "      <td>28.96</td>\n",
       "      <td>3.77</td>\n",
       "    </tr>\n",
       "    <tr>\n",
       "      <th>2</th>\n",
       "      <td>Mario Kart Wii</td>\n",
       "      <td>Wii</td>\n",
       "      <td>2008.0</td>\n",
       "      <td>Racing</td>\n",
       "      <td>15.68</td>\n",
       "      <td>12.76</td>\n",
       "      <td>3.79</td>\n",
       "    </tr>\n",
       "    <tr>\n",
       "      <th>3</th>\n",
       "      <td>Wii Sports Resort</td>\n",
       "      <td>Wii</td>\n",
       "      <td>2009.0</td>\n",
       "      <td>Sports</td>\n",
       "      <td>15.61</td>\n",
       "      <td>10.93</td>\n",
       "      <td>3.28</td>\n",
       "    </tr>\n",
       "    <tr>\n",
       "      <th>10</th>\n",
       "      <td>Nintendogs</td>\n",
       "      <td>DS</td>\n",
       "      <td>2005.0</td>\n",
       "      <td>Simulation</td>\n",
       "      <td>9.05</td>\n",
       "      <td>10.95</td>\n",
       "      <td>1.93</td>\n",
       "    </tr>\n",
       "    <tr>\n",
       "      <th>11</th>\n",
       "      <td>Mario Kart DS</td>\n",
       "      <td>DS</td>\n",
       "      <td>2005.0</td>\n",
       "      <td>Racing</td>\n",
       "      <td>9.71</td>\n",
       "      <td>7.47</td>\n",
       "      <td>4.13</td>\n",
       "    </tr>\n",
       "  </tbody>\n",
       "</table>\n",
       "</div>"
      ],
      "text/plain": [
       "                 Name Platform  Year_of_Release       Genre  NA_Sales  \\\n",
       "0          Wii Sports      Wii           2006.0      Sports     41.36   \n",
       "2      Mario Kart Wii      Wii           2008.0      Racing     15.68   \n",
       "3   Wii Sports Resort      Wii           2009.0      Sports     15.61   \n",
       "10         Nintendogs       DS           2005.0  Simulation      9.05   \n",
       "11      Mario Kart DS       DS           2005.0      Racing      9.71   \n",
       "\n",
       "    EU_Sales  JP_Sales  \n",
       "0      28.96      3.77  \n",
       "2      12.76      3.79  \n",
       "3      10.93      3.28  \n",
       "10     10.95      1.93  \n",
       "11      7.47      4.13  "
      ]
     },
     "execution_count": 112,
     "metadata": {},
     "output_type": "execute_result"
    }
   ],
   "source": [
    "# Displaying the new data frame.\n",
    "df_copy.head()"
   ]
  },
  {
   "cell_type": "markdown",
   "id": "7d5b6837",
   "metadata": {},
   "source": [
    "# <center>Analyzing</center>"
   ]
  },
  {
   "cell_type": "code",
   "execution_count": 113,
   "id": "bbf791f4",
   "metadata": {},
   "outputs": [],
   "source": [
    "# Creating a NA_Sales variable for plotting.\n",
    "na_sum = df_copy['NA_Sales'].sum()"
   ]
  },
  {
   "cell_type": "code",
   "execution_count": 114,
   "id": "7fe1b38b",
   "metadata": {},
   "outputs": [],
   "source": [
    "# Creating a EU_Sales variable for plotting.\n",
    "eu_sum = df_copy['EU_Sales'].sum()"
   ]
  },
  {
   "cell_type": "code",
   "execution_count": 115,
   "id": "f19f7aa9",
   "metadata": {},
   "outputs": [],
   "source": [
    "# Creating a JP_Sales variable for plotting.\n",
    "jp_sum = df_copy['JP_Sales'].sum()"
   ]
  },
  {
   "cell_type": "code",
   "execution_count": 116,
   "id": "2d079f05",
   "metadata": {
    "scrolled": true
   },
   "outputs": [
    {
     "data": {
      "image/png": "[encoded data removed]",
      "text/plain": [
       "<Figure size 648x360 with 1 Axes>"
      ]
     },
     "metadata": {},
     "output_type": "display_data"
    }
   ],
   "source": [
    "# Plotting units sold per country for visualizing the finding.\n",
    "sales_df = pd.DataFrame({'Country':['North America', 'European Union', 'Japan'], 'Units Sold':[na_sum, eu_sum, jp_sum]})\n",
    "sns.set_style(\"darkgrid\")\n",
    "sales_bar = sales_df.plot.bar(x='Country', y='Units Sold', rot=0, legend=False, figsize=(9,5))\n",
    "\n",
    "plt.title('Units Sold Per Country (Top 3 games combined)')\n",
    "plt.xlabel('Country')\n",
    "plt.ylabel(\"Units Sold\")\n",
    "plt.show()"
   ]
  },
  {
   "cell_type": "markdown",
   "id": "8969c122",
   "metadata": {},
   "source": [
    "#### <center>Looking at the chart above we can see North America sells more units than the European Union and far more than Japan. Seeing that Epic Games is based in the United States, it will be the market I recommend releasing the new video game in. With that said, moving forward I'll only analyze North American video game characteristics.</center>"
   ]
  },
  {
   "cell_type": "code",
   "execution_count": 117,
   "id": "13ccd4b4",
   "metadata": {
    "scrolled": true
   },
   "outputs": [
    {
     "data": {
      "text/html": [
       "<div>\n",
       "<style scoped>\n",
       "    .dataframe tbody tr th:only-of-type {\n",
       "        vertical-align: middle;\n",
       "    }\n",
       "\n",
       "    .dataframe tbody tr th {\n",
       "        vertical-align: top;\n",
       "    }\n",
       "\n",
       "    .dataframe thead th {\n",
       "        text-align: right;\n",
       "    }\n",
       "</style>\n",
       "<table border=\"1\" class=\"dataframe\">\n",
       "  <thead>\n",
       "    <tr style=\"text-align: right;\">\n",
       "      <th></th>\n",
       "      <th>Name</th>\n",
       "      <th>Platform</th>\n",
       "      <th>Year_of_Release</th>\n",
       "      <th>Genre</th>\n",
       "      <th>NA_Sales</th>\n",
       "      <th>EU_Sales</th>\n",
       "      <th>JP_Sales</th>\n",
       "    </tr>\n",
       "  </thead>\n",
       "  <tbody>\n",
       "    <tr>\n",
       "      <th>0</th>\n",
       "      <td>Wii Sports</td>\n",
       "      <td>Wii</td>\n",
       "      <td>2006.0</td>\n",
       "      <td>Sports</td>\n",
       "      <td>41.36</td>\n",
       "      <td>28.96</td>\n",
       "      <td>3.77</td>\n",
       "    </tr>\n",
       "    <tr>\n",
       "      <th>2</th>\n",
       "      <td>Mario Kart Wii</td>\n",
       "      <td>Wii</td>\n",
       "      <td>2008.0</td>\n",
       "      <td>Racing</td>\n",
       "      <td>15.68</td>\n",
       "      <td>12.76</td>\n",
       "      <td>3.79</td>\n",
       "    </tr>\n",
       "    <tr>\n",
       "      <th>3</th>\n",
       "      <td>Wii Sports Resort</td>\n",
       "      <td>Wii</td>\n",
       "      <td>2009.0</td>\n",
       "      <td>Sports</td>\n",
       "      <td>15.61</td>\n",
       "      <td>10.93</td>\n",
       "      <td>3.28</td>\n",
       "    </tr>\n",
       "    <tr>\n",
       "      <th>11</th>\n",
       "      <td>Mario Kart DS</td>\n",
       "      <td>DS</td>\n",
       "      <td>2005.0</td>\n",
       "      <td>Racing</td>\n",
       "      <td>9.71</td>\n",
       "      <td>7.47</td>\n",
       "      <td>4.13</td>\n",
       "    </tr>\n",
       "    <tr>\n",
       "      <th>10</th>\n",
       "      <td>Nintendogs</td>\n",
       "      <td>DS</td>\n",
       "      <td>2005.0</td>\n",
       "      <td>Simulation</td>\n",
       "      <td>9.05</td>\n",
       "      <td>10.95</td>\n",
       "      <td>1.93</td>\n",
       "    </tr>\n",
       "  </tbody>\n",
       "</table>\n",
       "</div>"
      ],
      "text/plain": [
       "                 Name Platform  Year_of_Release       Genre  NA_Sales  \\\n",
       "0          Wii Sports      Wii           2006.0      Sports     41.36   \n",
       "2      Mario Kart Wii      Wii           2008.0      Racing     15.68   \n",
       "3   Wii Sports Resort      Wii           2009.0      Sports     15.61   \n",
       "11      Mario Kart DS       DS           2005.0      Racing      9.71   \n",
       "10         Nintendogs       DS           2005.0  Simulation      9.05   \n",
       "\n",
       "    EU_Sales  JP_Sales  \n",
       "0      28.96      3.77  \n",
       "2      12.76      3.79  \n",
       "3      10.93      3.28  \n",
       "11      7.47      4.13  \n",
       "10     10.95      1.93  "
      ]
     },
     "execution_count": 117,
     "metadata": {},
     "output_type": "execute_result"
    }
   ],
   "source": [
    "# Creating a new data frame of top 200 games ordered by decending NA_Sales.\n",
    "sales_sorted = df_copy.sort_values('NA_Sales', ascending=False).head(200)\n",
    "sales_sorted.head()"
   ]
  },
  {
   "cell_type": "code",
   "execution_count": 118,
   "id": "42842434",
   "metadata": {},
   "outputs": [
    {
     "data": {
      "text/plain": [
       "Action          46\n",
       "Role-Playing    35\n",
       "Shooter         35\n",
       "Sports          29\n",
       "Simulation      19\n",
       "Racing          14\n",
       "Puzzle          12\n",
       "Fighting         6\n",
       "Adventure        2\n",
       "Strategy         2\n",
       "Name: Genre, dtype: int64"
      ]
     },
     "execution_count": 118,
     "metadata": {},
     "output_type": "execute_result"
    }
   ],
   "source": [
    "# Looking for the top 3 appearing genres that are in the top 200 games.\n",
    "sales_sorted.Genre.value_counts()"
   ]
  },
  {
   "cell_type": "code",
   "execution_count": 119,
   "id": "acf141fc",
   "metadata": {
    "scrolled": true
   },
   "outputs": [
    {
     "data": {
      "text/plain": [
       "PS4     45\n",
       "DS      44\n",
       "Wii     34\n",
       "GC      29\n",
       "3DS     18\n",
       "XOne    14\n",
       "PSP     10\n",
       "WiiU     5\n",
       "PC       1\n",
       "Name: Platform, dtype: int64"
      ]
     },
     "execution_count": 119,
     "metadata": {},
     "output_type": "execute_result"
    }
   ],
   "source": [
    "# Looking for the top 3 appearing platforms that are in the top 200 games.\n",
    "sales_sorted.Platform.value_counts()"
   ]
  },
  {
   "cell_type": "markdown",
   "id": "7a07ff57",
   "metadata": {},
   "source": [
    "#### <center>First I sorted the data set by NA_Sales. Then I found the top 3 game genres and platforms based on how many times they appeared in the top 200.</center>\n",
    "\n",
    "> **Genres:** Action, Role-Playing, Shooter<br>\n",
    "> **Platforms:** PS4, DS, Wii"
   ]
  },
  {
   "cell_type": "code",
   "execution_count": 120,
   "id": "5ce8c7e5",
   "metadata": {},
   "outputs": [],
   "source": [
    "# Created variables to make a new data frame.\n",
    "Action = sales_sorted[sales_sorted['Genre'] == 'Action'].head(25).NA_Sales.tolist()\n",
    "Role_Playing = sales_sorted[sales_sorted['Genre'] == 'Role-Playing'].head(25).NA_Sales.tolist()\n",
    "Shooter = sales_sorted[sales_sorted['Genre'] == 'Shooter'].head(25).NA_Sales.tolist()\n",
    "PS4 = sales_sorted[sales_sorted['Platform'] == 'PS4'].head(25).NA_Sales.tolist()\n",
    "DS = sales_sorted[sales_sorted['Platform'] == 'DS'].head(25).NA_Sales.tolist()\n",
    "Wii = sales_sorted[sales_sorted['Platform'] == 'Wii'].head(25).NA_Sales.tolist()\n",
    "NA_Units = sales_sorted.NA_Sales.head(25)"
   ]
  },
  {
   "cell_type": "code",
   "execution_count": 121,
   "id": "35d48704",
   "metadata": {
    "scrolled": true
   },
   "outputs": [
    {
     "data": {
      "text/html": [
       "<div>\n",
       "<style scoped>\n",
       "    .dataframe tbody tr th:only-of-type {\n",
       "        vertical-align: middle;\n",
       "    }\n",
       "\n",
       "    .dataframe tbody tr th {\n",
       "        vertical-align: top;\n",
       "    }\n",
       "\n",
       "    .dataframe thead th {\n",
       "        text-align: right;\n",
       "    }\n",
       "</style>\n",
       "<table border=\"1\" class=\"dataframe\">\n",
       "  <thead>\n",
       "    <tr style=\"text-align: right;\">\n",
       "      <th></th>\n",
       "      <th>Action</th>\n",
       "      <th>Role_Playing</th>\n",
       "      <th>Shooter</th>\n",
       "      <th>PS4</th>\n",
       "      <th>DS</th>\n",
       "      <th>Wii</th>\n",
       "      <th>NA_Units</th>\n",
       "    </tr>\n",
       "  </thead>\n",
       "  <tbody>\n",
       "    <tr>\n",
       "      <th>0</th>\n",
       "      <td>4.34</td>\n",
       "      <td>6.38</td>\n",
       "      <td>6.03</td>\n",
       "      <td>6.03</td>\n",
       "      <td>9.71</td>\n",
       "      <td>41.36</td>\n",
       "      <td>41.36</td>\n",
       "    </tr>\n",
       "    <tr>\n",
       "      <th>2</th>\n",
       "      <td>3.96</td>\n",
       "      <td>5.51</td>\n",
       "      <td>4.59</td>\n",
       "      <td>3.96</td>\n",
       "      <td>9.05</td>\n",
       "      <td>15.68</td>\n",
       "      <td>15.68</td>\n",
       "    </tr>\n",
       "    <tr>\n",
       "      <th>3</th>\n",
       "      <td>3.74</td>\n",
       "      <td>5.28</td>\n",
       "      <td>3.22</td>\n",
       "      <td>2.99</td>\n",
       "      <td>6.38</td>\n",
       "      <td>15.61</td>\n",
       "      <td>15.61</td>\n",
       "    </tr>\n",
       "    <tr>\n",
       "      <th>11</th>\n",
       "      <td>2.90</td>\n",
       "      <td>4.35</td>\n",
       "      <td>3.05</td>\n",
       "      <td>2.81</td>\n",
       "      <td>5.51</td>\n",
       "      <td>9.01</td>\n",
       "      <td>9.71</td>\n",
       "    </tr>\n",
       "    <tr>\n",
       "      <th>10</th>\n",
       "      <td>2.60</td>\n",
       "      <td>2.98</td>\n",
       "      <td>2.99</td>\n",
       "      <td>2.53</td>\n",
       "      <td>4.34</td>\n",
       "      <td>8.92</td>\n",
       "      <td>9.05</td>\n",
       "    </tr>\n",
       "    <tr>\n",
       "      <th>15</th>\n",
       "      <td>2.38</td>\n",
       "      <td>2.79</td>\n",
       "      <td>2.81</td>\n",
       "      <td>2.49</td>\n",
       "      <td>3.43</td>\n",
       "      <td>6.62</td>\n",
       "      <td>9.01</td>\n",
       "    </tr>\n",
       "    <tr>\n",
       "      <th>13</th>\n",
       "      <td>2.09</td>\n",
       "      <td>2.76</td>\n",
       "      <td>2.78</td>\n",
       "      <td>2.49</td>\n",
       "      <td>3.07</td>\n",
       "      <td>3.74</td>\n",
       "      <td>8.92</td>\n",
       "    </tr>\n",
       "    <tr>\n",
       "      <th>39</th>\n",
       "      <td>2.07</td>\n",
       "      <td>2.53</td>\n",
       "      <td>2.49</td>\n",
       "      <td>2.07</td>\n",
       "      <td>2.79</td>\n",
       "      <td>3.05</td>\n",
       "      <td>6.62</td>\n",
       "    </tr>\n",
       "    <tr>\n",
       "      <th>20</th>\n",
       "      <td>2.03</td>\n",
       "      <td>2.51</td>\n",
       "      <td>2.28</td>\n",
       "      <td>1.88</td>\n",
       "      <td>2.76</td>\n",
       "      <td>2.57</td>\n",
       "      <td>6.38</td>\n",
       "    </tr>\n",
       "    <tr>\n",
       "      <th>31</th>\n",
       "      <td>1.88</td>\n",
       "      <td>2.23</td>\n",
       "      <td>2.04</td>\n",
       "      <td>1.85</td>\n",
       "      <td>2.50</td>\n",
       "      <td>2.09</td>\n",
       "      <td>6.03</td>\n",
       "    </tr>\n",
       "    <tr>\n",
       "      <th>27</th>\n",
       "      <td>1.85</td>\n",
       "      <td>1.83</td>\n",
       "      <td>1.96</td>\n",
       "      <td>1.78</td>\n",
       "      <td>2.23</td>\n",
       "      <td>2.03</td>\n",
       "      <td>5.51</td>\n",
       "    </tr>\n",
       "    <tr>\n",
       "      <th>33</th>\n",
       "      <td>1.80</td>\n",
       "      <td>1.48</td>\n",
       "      <td>1.91</td>\n",
       "      <td>1.61</td>\n",
       "      <td>1.85</td>\n",
       "      <td>1.87</td>\n",
       "      <td>5.28</td>\n",
       "    </tr>\n",
       "    <tr>\n",
       "      <th>40</th>\n",
       "      <td>1.70</td>\n",
       "      <td>1.35</td>\n",
       "      <td>1.85</td>\n",
       "      <td>1.53</td>\n",
       "      <td>1.83</td>\n",
       "      <td>1.82</td>\n",
       "      <td>5.03</td>\n",
       "    </tr>\n",
       "    <tr>\n",
       "      <th>99</th>\n",
       "      <td>1.53</td>\n",
       "      <td>1.28</td>\n",
       "      <td>1.84</td>\n",
       "      <td>1.47</td>\n",
       "      <td>1.67</td>\n",
       "      <td>1.41</td>\n",
       "      <td>4.59</td>\n",
       "    </tr>\n",
       "    <tr>\n",
       "      <th>111</th>\n",
       "      <td>1.48</td>\n",
       "      <td>1.21</td>\n",
       "      <td>1.78</td>\n",
       "      <td>1.40</td>\n",
       "      <td>1.63</td>\n",
       "      <td>1.32</td>\n",
       "      <td>4.41</td>\n",
       "    </tr>\n",
       "    <tr>\n",
       "      <th>47</th>\n",
       "      <td>1.40</td>\n",
       "      <td>1.15</td>\n",
       "      <td>1.61</td>\n",
       "      <td>1.35</td>\n",
       "      <td>1.63</td>\n",
       "      <td>1.12</td>\n",
       "      <td>4.35</td>\n",
       "    </tr>\n",
       "    <tr>\n",
       "      <th>46</th>\n",
       "      <td>1.40</td>\n",
       "      <td>1.12</td>\n",
       "      <td>1.54</td>\n",
       "      <td>1.35</td>\n",
       "      <td>1.60</td>\n",
       "      <td>1.11</td>\n",
       "      <td>4.34</td>\n",
       "    </tr>\n",
       "    <tr>\n",
       "      <th>112</th>\n",
       "      <td>1.40</td>\n",
       "      <td>1.06</td>\n",
       "      <td>1.35</td>\n",
       "      <td>1.28</td>\n",
       "      <td>1.58</td>\n",
       "      <td>1.10</td>\n",
       "      <td>4.12</td>\n",
       "    </tr>\n",
       "    <tr>\n",
       "      <th>42</th>\n",
       "      <td>1.32</td>\n",
       "      <td>1.02</td>\n",
       "      <td>1.35</td>\n",
       "      <td>1.25</td>\n",
       "      <td>1.40</td>\n",
       "      <td>1.05</td>\n",
       "      <td>3.96</td>\n",
       "    </tr>\n",
       "    <tr>\n",
       "      <th>107</th>\n",
       "      <td>1.28</td>\n",
       "      <td>0.94</td>\n",
       "      <td>1.13</td>\n",
       "      <td>1.19</td>\n",
       "      <td>1.28</td>\n",
       "      <td>0.97</td>\n",
       "      <td>3.74</td>\n",
       "    </tr>\n",
       "    <tr>\n",
       "      <th>26</th>\n",
       "      <td>1.19</td>\n",
       "      <td>0.90</td>\n",
       "      <td>1.10</td>\n",
       "      <td>1.13</td>\n",
       "      <td>1.21</td>\n",
       "      <td>0.94</td>\n",
       "      <td>3.43</td>\n",
       "    </tr>\n",
       "    <tr>\n",
       "      <th>96</th>\n",
       "      <td>1.15</td>\n",
       "      <td>0.89</td>\n",
       "      <td>1.05</td>\n",
       "      <td>1.12</td>\n",
       "      <td>1.21</td>\n",
       "      <td>0.90</td>\n",
       "      <td>3.27</td>\n",
       "    </tr>\n",
       "    <tr>\n",
       "      <th>179</th>\n",
       "      <td>1.15</td>\n",
       "      <td>0.89</td>\n",
       "      <td>0.95</td>\n",
       "      <td>1.10</td>\n",
       "      <td>1.15</td>\n",
       "      <td>0.89</td>\n",
       "      <td>3.22</td>\n",
       "    </tr>\n",
       "    <tr>\n",
       "      <th>110</th>\n",
       "      <td>1.09</td>\n",
       "      <td>0.81</td>\n",
       "      <td>0.89</td>\n",
       "      <td>1.09</td>\n",
       "      <td>1.06</td>\n",
       "      <td>0.88</td>\n",
       "      <td>3.15</td>\n",
       "    </tr>\n",
       "    <tr>\n",
       "      <th>156</th>\n",
       "      <td>1.07</td>\n",
       "      <td>0.78</td>\n",
       "      <td>0.89</td>\n",
       "      <td>1.07</td>\n",
       "      <td>0.98</td>\n",
       "      <td>0.86</td>\n",
       "      <td>3.07</td>\n",
       "    </tr>\n",
       "  </tbody>\n",
       "</table>\n",
       "</div>"
      ],
      "text/plain": [
       "     Action  Role_Playing  Shooter   PS4    DS    Wii  NA_Units\n",
       "0      4.34          6.38     6.03  6.03  9.71  41.36     41.36\n",
       "2      3.96          5.51     4.59  3.96  9.05  15.68     15.68\n",
       "3      3.74          5.28     3.22  2.99  6.38  15.61     15.61\n",
       "11     2.90          4.35     3.05  2.81  5.51   9.01      9.71\n",
       "10     2.60          2.98     2.99  2.53  4.34   8.92      9.05\n",
       "15     2.38          2.79     2.81  2.49  3.43   6.62      9.01\n",
       "13     2.09          2.76     2.78  2.49  3.07   3.74      8.92\n",
       "39     2.07          2.53     2.49  2.07  2.79   3.05      6.62\n",
       "20     2.03          2.51     2.28  1.88  2.76   2.57      6.38\n",
       "31     1.88          2.23     2.04  1.85  2.50   2.09      6.03\n",
       "27     1.85          1.83     1.96  1.78  2.23   2.03      5.51\n",
       "33     1.80          1.48     1.91  1.61  1.85   1.87      5.28\n",
       "40     1.70          1.35     1.85  1.53  1.83   1.82      5.03\n",
       "99     1.53          1.28     1.84  1.47  1.67   1.41      4.59\n",
       "111    1.48          1.21     1.78  1.40  1.63   1.32      4.41\n",
       "47     1.40          1.15     1.61  1.35  1.63   1.12      4.35\n",
       "46     1.40          1.12     1.54  1.35  1.60   1.11      4.34\n",
       "112    1.40          1.06     1.35  1.28  1.58   1.10      4.12\n",
       "42     1.32          1.02     1.35  1.25  1.40   1.05      3.96\n",
       "107    1.28          0.94     1.13  1.19  1.28   0.97      3.74\n",
       "26     1.19          0.90     1.10  1.13  1.21   0.94      3.43\n",
       "96     1.15          0.89     1.05  1.12  1.21   0.90      3.27\n",
       "179    1.15          0.89     0.95  1.10  1.15   0.89      3.22\n",
       "110    1.09          0.81     0.89  1.09  1.06   0.88      3.15\n",
       "156    1.07          0.78     0.89  1.07  0.98   0.86      3.07"
      ]
     },
     "execution_count": 121,
     "metadata": {},
     "output_type": "execute_result"
    }
   ],
   "source": [
    "# Creating a data frame with all the needed data.\n",
    "new_df = pd.DataFrame(\n",
    "    {\n",
    "     'Action': Action,\n",
    "     'Role_Playing': Role_Playing,\n",
    "     'Shooter': Shooter,\n",
    "     'PS4' : PS4,\n",
    "     'DS' : DS,\n",
    "     'Wii' : Wii,\n",
    "     'NA_Units' : NA_Units\n",
    "    })\n",
    "\n",
    "new_df.head(25)"
   ]
  },
  {
   "cell_type": "code",
   "execution_count": 122,
   "id": "d2da3de7",
   "metadata": {
    "scrolled": true
   },
   "outputs": [
    {
     "name": "stdout",
     "output_type": "stream",
     "text": [
      "                df       sum_sq      mean_sq            F        PR(>F)\n",
      "Action         1.0  1076.261447  1076.261447  2720.042447  4.266332e-21\n",
      "Role_Playing   1.0     1.939720     1.939720     4.902267  3.996780e-02\n",
      "Shooter        1.0   153.765741   153.765741   388.613142  1.235737e-13\n",
      "PS4            1.0   204.310079   204.310079   516.354172  1.051844e-14\n",
      "DS             1.0     5.538038     5.538038    13.996318  1.495083e-03\n",
      "Wii            1.0    28.131543    28.131543    71.097029  1.149779e-07\n",
      "Residual      18.0     7.122207     0.395678          NaN           NaN\n"
     ]
    }
   ],
   "source": [
    "# Preforming a Two-way ANOVA test.\n",
    "mod = ols('NA_Units~Action+Role_Playing+Shooter+PS4+DS+Wii', data = new_df).fit()\n",
    "aov = sm.stats.anova_lm(mod, type=2)\n",
    "print(aov)\n",
    "\n"
   ]
  },
  {
   "cell_type": "markdown",
   "id": "732bccec",
   "metadata": {},
   "source": [
    "### Two-way ANOVA Test Results\n",
    "\n",
    "\n",
    "> **<u>P_values</u>**\n",
    "> * **Action:** 4.266332e-21\n",
    "> * **Role_Playing:** 3.996780e-02\n",
    "> * **Shooter:** 1.235737e-13\n",
    "> * **PS4:** 1.051844e-14\n",
    "> * **DS:** 1.495083e-03\n",
    "> * **Wii:** 1.149779e-07"
   ]
  },
  {
   "cell_type": "markdown",
   "id": "af84a980",
   "metadata": {},
   "source": [
    "## <center>Conclusion</center>\n",
    "> It's clear that North America sells more video games than The European Union and Japan. With Epic Games being in North America and North Americas sales history, it'll be my recommendation that the next video game should be released in North America.\n",
    "\n",
    "> I was able to isolate the top preforming video games based off units sold. From there I found the top 3 game genres and top 3 platforms that appeared the most in the top 200 games. I then took the top 25 performers per genre/platform and put them in a data frame. From there I ran my two-way ANOVA test on the data to obtain my p-values. All 6 of my independent variables (genres/platforms) had a much smaller p-value than my threshold of 5%.\n",
    "\n",
    "> So, with **all 6 p-values < 0.05**, I can reject my null hypothesis.<br>\n",
    ">Null: Certain video game characteristics **can not** be used to predict how how many units it will sell."
   ]
  },
  {
   "cell_type": "code",
   "execution_count": null,
   "id": "bc1694d3",
   "metadata": {},
   "outputs": [],
   "source": []
  }
 ],
 "metadata": {
  "kernelspec": {
   "display_name": "Python 3 (ipykernel)",
   "language": "python",
   "name": "python3"
  },
  "language_info": {
   "codemirror_mode": {
    "name": "ipython",
    "version": 3
   },
   "file_extension": ".py",
   "mimetype": "text/x-python",
   "name": "python",
   "nbconvert_exporter": "python",
   "pygments_lexer": "ipython3",
   "version": "3.8.12"
  }
 },
 "nbformat": 4,
 "nbformat_minor": 5
}
